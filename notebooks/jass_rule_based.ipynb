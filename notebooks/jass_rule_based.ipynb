{
 "cells": [
  {
   "cell_type": "markdown",
   "id": "5f8f7f7a",
   "metadata": {},
   "source": [
    "# Jass Rule Based Player"
   ]
  },
  {
   "cell_type": "markdown",
   "id": "7ae5c9ee",
   "metadata": {},
   "source": [
    "### by Ruben Nunez & Jordan Suter \n",
    "Import Statements"
   ]
  },
  {
   "cell_type": "code",
   "execution_count": 3,
   "id": "e5f9d055",
   "metadata": {},
   "outputs": [],
   "source": [
    "from jass.game.game_util import *\n",
    "from jass.game.game_sim import GameSim\n",
    "from jass.game.game_observation import GameObservation\n",
    "from jass.game.const import *\n",
    "from jass.game.rule_schieber import RuleSchieber\n",
    "from jass.agents.agent import Agent\n",
    "from jass.agents.agent_random_schieber import AgentRandomSchieber\n",
    "from jass.arena.arena import Arena"
   ]
  },
  {
   "cell_type": "code",
   "execution_count": 5,
   "id": "7853cd80",
   "metadata": {},
   "outputs": [
    {
     "name": "stdout",
     "output_type": "stream",
     "text": [
      "(4, 36)\n"
     ]
    }
   ],
   "source": [
    "# This distributes the cards randomly among the 4 players.\n",
    "hands = deal_random_hand()\n",
    "print(hands.shape)"
   ]
  },
  {
   "cell_type": "code",
   "execution_count": 12,
   "id": "aeb4b27c",
   "metadata": {},
   "outputs": [
    {
     "name": "stdout",
     "output_type": "stream",
     "text": [
      "[0 0 0 0 0 1 0 0 0 0 0 0 0 0 1 0 1 0 0 0 0 0 1 0 0 0 1 0 1 0 1 1 0 0 0 1]\n"
     ]
    }
   ],
   "source": [
    "# There is an entry for each player, to access the cards of the first player\n",
    "cards = hands[0,:]\n",
    "print(cards)"
   ]
  },
  {
   "cell_type": "code",
   "execution_count": 13,
   "id": "e3bf67b6",
   "metadata": {},
   "outputs": [
    {
     "name": "stdout",
     "output_type": "stream",
     "text": [
      "['D9', 'H9', 'H7', 'S10', 'S6', 'CK', 'CJ', 'C10', 'C6']\n",
      "[5, 14, 16, 22, 26, 28, 30, 31, 35]\n"
     ]
    }
   ],
   "source": [
    "# This should be 9 cards\n",
    "assert(cards.sum() == 9)\n",
    "\n",
    "# The cards can be converted to other formats for easier reading or processing\n",
    "print(convert_one_hot_encoded_cards_to_str_encoded_list(cards))\n",
    "\n",
    "# Each card is encoded as a value between 0 and 35.\n",
    "print(convert_one_hot_encoded_cards_to_int_encoded_list(cards))"
   ]
  },
  {
   "cell_type": "code",
   "execution_count": 14,
   "id": "22335dce",
   "metadata": {},
   "outputs": [
    {
     "name": "stdout",
     "output_type": "stream",
     "text": [
      "[1 2 2 4]\n"
     ]
    }
   ],
   "source": [
    "# There is a method to count colors too\n",
    "colors = count_colors(cards)\n",
    "print(colors)"
   ]
  },
  {
   "cell_type": "markdown",
   "id": "3ce66b26",
   "metadata": {},
   "source": [
    "Another possibility to select trump is by assigning a value to each card, depending on whether the color is trump or not. This table is from the Maturawork of Daniel Graf from 2009: \"Jassen auf Basis der Spieltheorie\"."
   ]
  },
  {
   "cell_type": "code",
   "execution_count": 15,
   "id": "78a94164",
   "metadata": {},
   "outputs": [],
   "source": [
    "# Score for each card of a color from Ace to 6\n",
    "\n",
    "# score if the color is trump\n",
    "trump_score = [15, 10, 7, 25, 6, 19, 5, 5, 5]\n",
    "# score if the color is not trump\n",
    "no_trump_score = [9, 7, 5, 2, 1, 0, 0, 0, 0]\n",
    "# score if obenabe is selected (all colors)\n",
    "# obenabe_score = [14, 10, 8, 7, 5, 0, 5, 0, 0,]\n",
    "# score if uneufe is selected (all colors)\n",
    "# uneufe_score = [0, 2, 1, 1, 5, 5, 7, 9, 11]"
   ]
  },
  {
   "cell_type": "markdown",
   "id": "989b60d7",
   "metadata": {},
   "source": [
    "## Our rule based agent"
   ]
  },
  {
   "cell_type": "code",
   "execution_count": 44,
   "id": "66bc0ef7",
   "metadata": {},
   "outputs": [],
   "source": [
    "class RuleBasedAgent(Agent):\n",
    "    def __init__(self):\n",
    "        super().__init__()\n",
    "        # we need a rule object to determine the valid cards\n",
    "        self._rule = RuleSchieber()\n",
    "        \n",
    "        \n",
    "    def calculate_trump_selection_score(self, cards, trump: int) -> int:\n",
    "        score = 0;\n",
    "        for card in cards:\n",
    "            suit = int(card / 9)\n",
    "            exact_card = card % 9\n",
    "            # print(\"card=\" + str(card) + \"; suit=\" + str(suit) + \"; exact=\" + str(exact_card))\n",
    "            score += trump_score[exact_card] if trump == suit else no_trump_score[exact_card]\n",
    "\n",
    "        return score\n",
    "        \n",
    "\n",
    "    def action_trump(self, obs: GameObservation) -> int:\n",
    "        \"\"\"\n",
    "        Determine trump action for the given observation\n",
    "        Args:\n",
    "            obs: the game observation, it must be in a state for trump selection\n",
    "\n",
    "        Returns:\n",
    "            selected trump as encoded in jass.game.const or jass.game.const.PUSH\n",
    "        \"\"\"\n",
    "        # add your code here using the function above\n",
    "        card_list = convert_one_hot_encoded_cards_to_int_encoded_list(obs.hand)\n",
    "        threshold = 68\n",
    "        scores = [0,0,0,0]\n",
    "        for suit in range(0,4):\n",
    "            trump_score = self.calculate_trump_selection_score(card_list, suit)\n",
    "            scores[suit] = trump_score\n",
    "        \n",
    "        best_score = max(scores)\n",
    "        best_suit = scores.index(best_score)\n",
    "            \n",
    "        if best_score <= threshold and obs.player < 1:\n",
    "            return PUSH\n",
    "        else:\n",
    "            return best_suit\n",
    "        \n",
    "\n",
    "    def action_play_card(self, obs: GameObservation) -> int:\n",
    "        \"\"\"\n",
    "        Determine the card to play.\n",
    "\n",
    "        Args:\n",
    "            obs: the game observation\n",
    "\n",
    "        Returns:\n",
    "            the card to play, int encoded as defined in jass.game.const\n",
    "        \"\"\"\n",
    "        ## TODO Hier müssen wir den vor programmierten Entscheidungsbaum einfügen statt rnd \n",
    "        \n",
    "        valid_cards = self._rule.get_valid_cards_from_obs(obs)\n",
    "        \n",
    "        \n",
    "        # we use the global random number generator here\n",
    "        # np.random.choice(np.flatnonzero(valid_cards))\n",
    "#         print(valid_cards)\n",
    "        print(convert_one_hot_encoded_cards_to_str_encoded_list(valid_cards))\n",
    "        return np.flatnonzero(valid_cards)[0]\n",
    "    \n",
    "    "
   ]
  },
  {
   "cell_type": "markdown",
   "id": "4508442a",
   "metadata": {},
   "source": [
    "## Arena Test"
   ]
  },
  {
   "cell_type": "code",
   "execution_count": 50,
   "id": "ac281852",
   "metadata": {},
   "outputs": [],
   "source": [
    "arena = Arena(nr_games_to_play=1)\n",
    "arena.set_players(RuleBasedAgent(), AgentRandomSchieber(), RuleBasedAgent(), AgentRandomSchieber())"
   ]
  },
  {
   "cell_type": "code",
   "execution_count": 52,
   "id": "0250f46f",
   "metadata": {},
   "outputs": [
    {
     "name": "stdout",
     "output_type": "stream",
     "text": [
      "['CA', 'CQ', 'C10']\n",
      "['C7']\n",
      "['SQ', 'SJ', 'S6', 'CQ', 'C10']\n",
      "['SA']\n",
      "['DA', 'DK', 'D7', 'HK', 'H9', 'H8', 'H6']\n",
      "['SJ', 'S6', 'CQ', 'C10']\n",
      "['S6', 'CQ', 'C10']\n",
      "['DK', 'D7', 'HK', 'H9', 'H8', 'H6']\n",
      "['DQ', 'D6', 'CQ', 'C10']\n",
      "['D7']\n",
      "['D6', 'HQ', 'CQ', 'C10']\n",
      "['HK', 'H9', 'H8', 'H6']\n",
      "['H9', 'H8', 'H6']\n",
      "['HQ', 'CQ', 'C10']\n",
      "['CQ', 'C10']\n",
      "['H8', 'H6']\n",
      "['C10']\n",
      "['H6']\n"
     ]
    },
    {
     "ename": "IndexError",
     "evalue": "index 1 is out of bounds for axis 0 with size 1",
     "output_type": "error",
     "traceback": [
      "\u001b[0;31m---------------------------------------------------------------------------\u001b[0m",
      "\u001b[0;31mIndexError\u001b[0m                                Traceback (most recent call last)",
      "\u001b[0;32m/var/folders/8m/8cy_jdw938ng23dygm9fsq3m0000gn/T/ipykernel_46142/576016503.py\u001b[0m in \u001b[0;36m<module>\u001b[0;34m\u001b[0m\n\u001b[0;32m----> 1\u001b[0;31m \u001b[0marena\u001b[0m\u001b[0;34m.\u001b[0m\u001b[0mplay_all_games\u001b[0m\u001b[0;34m(\u001b[0m\u001b[0;34m)\u001b[0m\u001b[0;34m\u001b[0m\u001b[0;34m\u001b[0m\u001b[0m\n\u001b[0m",
      "\u001b[0;32m~/opt/anaconda3/envs/deep-jass-project/lib/python3.8/site-packages/jass/arena/arena.py\u001b[0m in \u001b[0;36mplay_all_games\u001b[0;34m(self)\u001b[0m\n\u001b[1;32m    226\u001b[0m         \u001b[0mdealer\u001b[0m \u001b[0;34m=\u001b[0m \u001b[0mNORTH\u001b[0m\u001b[0;34m\u001b[0m\u001b[0;34m\u001b[0m\u001b[0m\n\u001b[1;32m    227\u001b[0m         \u001b[0;32mfor\u001b[0m \u001b[0mgame_id\u001b[0m \u001b[0;32min\u001b[0m \u001b[0mrange\u001b[0m\u001b[0;34m(\u001b[0m\u001b[0mself\u001b[0m\u001b[0;34m.\u001b[0m\u001b[0m_nr_games_to_play\u001b[0m\u001b[0;34m)\u001b[0m\u001b[0;34m:\u001b[0m\u001b[0;34m\u001b[0m\u001b[0;34m\u001b[0m\u001b[0m\n\u001b[0;32m--> 228\u001b[0;31m             \u001b[0mself\u001b[0m\u001b[0;34m.\u001b[0m\u001b[0mplay_game\u001b[0m\u001b[0;34m(\u001b[0m\u001b[0mdealer\u001b[0m\u001b[0;34m=\u001b[0m\u001b[0mdealer\u001b[0m\u001b[0;34m)\u001b[0m\u001b[0;34m\u001b[0m\u001b[0;34m\u001b[0m\u001b[0m\n\u001b[0m\u001b[1;32m    229\u001b[0m             \u001b[0;32mif\u001b[0m \u001b[0mself\u001b[0m\u001b[0;34m.\u001b[0m\u001b[0mnr_games_played\u001b[0m \u001b[0;34m%\u001b[0m \u001b[0mself\u001b[0m\u001b[0;34m.\u001b[0m\u001b[0m_print_every_x_games\u001b[0m \u001b[0;34m==\u001b[0m \u001b[0;36m0\u001b[0m\u001b[0;34m:\u001b[0m\u001b[0;34m\u001b[0m\u001b[0;34m\u001b[0m\u001b[0m\n\u001b[1;32m    230\u001b[0m                 \u001b[0mpoints_to_write\u001b[0m \u001b[0;34m=\u001b[0m \u001b[0mint\u001b[0m\u001b[0;34m(\u001b[0m\u001b[0mself\u001b[0m\u001b[0;34m.\u001b[0m\u001b[0mnr_games_played\u001b[0m \u001b[0;34m/\u001b[0m \u001b[0mself\u001b[0m\u001b[0;34m.\u001b[0m\u001b[0m_nr_games_to_play\u001b[0m \u001b[0;34m*\u001b[0m \u001b[0;36m40\u001b[0m\u001b[0;34m)\u001b[0m\u001b[0;34m\u001b[0m\u001b[0;34m\u001b[0m\u001b[0m\n",
      "\u001b[0;32m~/opt/anaconda3/envs/deep-jass-project/lib/python3.8/site-packages/jass/arena/arena.py\u001b[0m in \u001b[0;36mplay_game\u001b[0;34m(self, dealer)\u001b[0m\n\u001b[1;32m    202\u001b[0m \u001b[0;34m\u001b[0m\u001b[0m\n\u001b[1;32m    203\u001b[0m         \u001b[0;31m# update results\u001b[0m\u001b[0;34m\u001b[0m\u001b[0;34m\u001b[0m\u001b[0;34m\u001b[0m\u001b[0m\n\u001b[0;32m--> 204\u001b[0;31m         \u001b[0mself\u001b[0m\u001b[0;34m.\u001b[0m\u001b[0m_points_team_0\u001b[0m\u001b[0;34m[\u001b[0m\u001b[0mself\u001b[0m\u001b[0;34m.\u001b[0m\u001b[0m_nr_games_played\u001b[0m\u001b[0;34m]\u001b[0m \u001b[0;34m=\u001b[0m \u001b[0mself\u001b[0m\u001b[0;34m.\u001b[0m\u001b[0m_game\u001b[0m\u001b[0;34m.\u001b[0m\u001b[0mstate\u001b[0m\u001b[0;34m.\u001b[0m\u001b[0mpoints\u001b[0m\u001b[0;34m[\u001b[0m\u001b[0;36m0\u001b[0m\u001b[0;34m]\u001b[0m\u001b[0;34m\u001b[0m\u001b[0;34m\u001b[0m\u001b[0m\n\u001b[0m\u001b[1;32m    205\u001b[0m         \u001b[0mself\u001b[0m\u001b[0;34m.\u001b[0m\u001b[0m_points_team_1\u001b[0m\u001b[0;34m[\u001b[0m\u001b[0mself\u001b[0m\u001b[0;34m.\u001b[0m\u001b[0m_nr_games_played\u001b[0m\u001b[0;34m]\u001b[0m \u001b[0;34m=\u001b[0m \u001b[0mself\u001b[0m\u001b[0;34m.\u001b[0m\u001b[0m_game\u001b[0m\u001b[0;34m.\u001b[0m\u001b[0mstate\u001b[0m\u001b[0;34m.\u001b[0m\u001b[0mpoints\u001b[0m\u001b[0;34m[\u001b[0m\u001b[0;36m1\u001b[0m\u001b[0;34m]\u001b[0m\u001b[0;34m\u001b[0m\u001b[0;34m\u001b[0m\u001b[0m\n\u001b[1;32m    206\u001b[0m         \u001b[0mself\u001b[0m\u001b[0;34m.\u001b[0m\u001b[0msave_game\u001b[0m\u001b[0;34m(\u001b[0m\u001b[0;34m)\u001b[0m\u001b[0;34m\u001b[0m\u001b[0;34m\u001b[0m\u001b[0m\n",
      "\u001b[0;31mIndexError\u001b[0m: index 1 is out of bounds for axis 0 with size 1"
     ]
    }
   ],
   "source": [
    "arena.play_all_games()"
   ]
  },
  {
   "cell_type": "code",
   "execution_count": 43,
   "id": "332d3294",
   "metadata": {},
   "outputs": [
    {
     "name": "stdout",
     "output_type": "stream",
     "text": [
      "157.0 0.0\n"
     ]
    }
   ],
   "source": [
    "print(arena.points_team_0.sum(), arena.points_team_1.sum())"
   ]
  },
  {
   "cell_type": "code",
   "execution_count": null,
   "id": "b482e7cd",
   "metadata": {},
   "outputs": [],
   "source": []
  }
 ],
 "metadata": {
  "kernelspec": {
   "display_name": "Python 3 (ipykernel)",
   "language": "python",
   "name": "python3"
  },
  "language_info": {
   "codemirror_mode": {
    "name": "ipython",
    "version": 3
   },
   "file_extension": ".py",
   "mimetype": "text/x-python",
   "name": "python",
   "nbconvert_exporter": "python",
   "pygments_lexer": "ipython3",
   "version": "3.8.11"
  }
 },
 "nbformat": 4,
 "nbformat_minor": 5
}
