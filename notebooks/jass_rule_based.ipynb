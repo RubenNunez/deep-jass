{
 "cells": [
  {
   "cell_type": "markdown",
   "id": "5f8f7f7a",
   "metadata": {},
   "source": [
    "# Jass Rule Based Player"
   ]
  },
  {
   "cell_type": "markdown",
   "id": "7ae5c9ee",
   "metadata": {},
   "source": [
    "### by Ruben Nunez & Jordan Suter \n",
    "Import Statements"
   ]
  },
  {
   "cell_type": "code",
   "execution_count": 3,
   "id": "e5f9d055",
   "metadata": {},
   "outputs": [],
   "source": [
    "from jass.game.game_util import *\n",
    "from jass.game.game_sim import GameSim\n",
    "from jass.game.game_observation import GameObservation\n",
    "from jass.game.const import *\n",
    "from jass.game.rule_schieber import RuleSchieber\n",
    "from jass.agents.agent import Agent\n",
    "from jass.agents.agent_random_schieber import AgentRandomSchieber\n",
    "from jass.arena.arena import Arena"
   ]
  },
  {
   "cell_type": "code",
   "execution_count": 5,
   "id": "7853cd80",
   "metadata": {},
   "outputs": [
    {
     "name": "stdout",
     "output_type": "stream",
     "text": [
      "(4, 36)\n"
     ]
    }
   ],
   "source": [
    "# This distributes the cards randomly among the 4 players.\n",
    "hands = deal_random_hand()\n",
    "print(hands.shape)"
   ]
  },
  {
   "cell_type": "code",
   "execution_count": 12,
   "id": "fa016d8a",
   "metadata": {},
   "outputs": [
    {
     "name": "stdout",
     "output_type": "stream",
     "text": [
      "[0 0 0 0 0 1 0 0 0 0 0 0 0 0 1 0 1 0 0 0 0 0 1 0 0 0 1 0 1 0 1 1 0 0 0 1]\n"
     ]
    }
   ],
   "source": [
    "# There is an entry for each player, to access the cards of the first player\n",
    "cards = hands[0,:]\n",
    "print(cards)"
   ]
  },
  {
   "cell_type": "code",
   "execution_count": 13,
   "id": "11ee11b2",
   "metadata": {},
   "outputs": [
    {
     "name": "stdout",
     "output_type": "stream",
     "text": [
      "['D9', 'H9', 'H7', 'S10', 'S6', 'CK', 'CJ', 'C10', 'C6']\n",
      "[5, 14, 16, 22, 26, 28, 30, 31, 35]\n"
     ]
    }
   ],
   "source": [
    "# This should be 9 cards\n",
    "assert(cards.sum() == 9)\n",
    "\n",
    "# The cards can be converted to other formats for easier reading or processing\n",
    "print(convert_one_hot_encoded_cards_to_str_encoded_list(cards))\n",
    "\n",
    "# Each card is encoded as a value between 0 and 35.\n",
    "print(convert_one_hot_encoded_cards_to_int_encoded_list(cards))"
   ]
  },
  {
   "cell_type": "code",
   "execution_count": 14,
   "id": "032adbad",
   "metadata": {},
   "outputs": [
    {
     "name": "stdout",
     "output_type": "stream",
     "text": [
      "[1 2 2 4]\n"
     ]
    }
   ],
   "source": [
    "# There is a method to count colors too\n",
    "colors = count_colors(cards)\n",
    "print(colors)"
   ]
  },
  {
   "cell_type": "markdown",
   "id": "5671d06c",
   "metadata": {},
   "source": [
    "Another possibility to select trump is by assigning a value to each card, depending on whether the color is trump or not. This table is from the Maturawork of Daniel Graf from 2009: \"Jassen auf Basis der Spieltheorie\"."
   ]
  },
  {
   "cell_type": "code",
   "execution_count": 15,
   "id": "6554a1cd",
   "metadata": {},
   "outputs": [],
   "source": [
    "# Score for each card of a color from Ace to 6\n",
    "\n",
    "# score if the color is trump\n",
    "trump_score = [15, 10, 7, 25, 6, 19, 5, 5, 5]\n",
    "# score if the color is not trump\n",
    "no_trump_score = [9, 7, 5, 2, 1, 0, 0, 0, 0]\n",
    "# score if obenabe is selected (all colors)\n",
    "# obenabe_score = [14, 10, 8, 7, 5, 0, 5, 0, 0,]\n",
    "# score if uneufe is selected (all colors)\n",
    "# uneufe_score = [0, 2, 1, 1, 5, 5, 7, 9, 11]"
   ]
  },
  {
   "cell_type": "markdown",
   "id": "3cb1f280",
   "metadata": {},
   "source": [
    "## Our rule based agent"
   ]
  },
  {
   "cell_type": "code",
   "execution_count": 44,
   "id": "514cd054",
   "metadata": {},
   "outputs": [],
   "source": [
    "class RuleBasedAgent(Agent):\n",
    "    def __init__(self):\n",
    "        super().__init__()\n",
    "        # we need a rule object to determine the valid cards\n",
    "        self._rule = RuleSchieber()\n",
    "        \n",
    "        \n",
    "    def calculate_trump_selection_score(self, cards, trump: int) -> int:\n",
    "        score = 0;\n",
    "        for card in cards:\n",
    "            suit = int(card / 9)\n",
    "            exact_card = card % 9\n",
    "            # print(\"card=\" + str(card) + \"; suit=\" + str(suit) + \"; exact=\" + str(exact_card))\n",
    "            score += trump_score[exact_card] if trump == suit else no_trump_score[exact_card]\n",
    "\n",
    "        return score\n",
    "        \n",
    "\n",
    "    def action_trump(self, obs: GameObservation) -> int:\n",
    "        \"\"\"\n",
    "        Determine trump action for the given observation\n",
    "        Args:\n",
    "            obs: the game observation, it must be in a state for trump selection\n",
    "\n",
    "        Returns:\n",
    "            selected trump as encoded in jass.game.const or jass.game.const.PUSH\n",
    "        \"\"\"\n",
    "        # add your code here using the function above\n",
    "        card_list = convert_one_hot_encoded_cards_to_int_encoded_list(obs.hand)\n",
    "        threshold = 68\n",
    "        scores = [0,0,0,0]\n",
    "        for suit in range(0,4):\n",
    "            trump_score = self.calculate_trump_selection_score(card_list, suit)\n",
    "            scores[suit] = trump_score\n",
    "        \n",
    "        best_score = max(scores)\n",
    "        best_suit = scores.index(best_score)\n",
    "            \n",
    "        if best_score <= threshold and obs.player < 1:\n",
    "            return PUSH\n",
    "        else:\n",
    "            return best_suit\n",
    "        \n",
    "\n",
    "    def action_play_card(self, obs: GameObservation) -> int:\n",
    "        \"\"\"\n",
    "        Determine the card to play.\n",
    "\n",
    "        Args:\n",
    "            obs: the game observation\n",
    "\n",
    "        Returns:\n",
    "            the card to play, int encoded as defined in jass.game.const\n",
    "        \"\"\"\n",
    "        ## TODO Hier müssen wir den vor programmierten Entscheidungsbaum einfügen statt rnd \n",
    "        \n",
    "        valid_cards = self._rule.get_valid_cards_from_obs(obs)\n",
    "        \n",
    "        \n",
    "        # we use the global random number generator here\n",
    "        # np.random.choice(np.flatnonzero(valid_cards))\n",
    "#         print(valid_cards)\n",
    "        print(convert_one_hot_encoded_cards_to_str_encoded_list(valid_cards))\n",
    "        return np.flatnonzero(valid_cards)[0]\n",
    "    \n",
    "    "
   ]
  },
  {
   "cell_type": "markdown",
   "id": "93842fc4",
   "metadata": {},
   "source": [
    "## Arena Test"
   ]
  },
  {
   "cell_type": "code",
   "execution_count": 61,
   "id": "bee1b4cc",
   "metadata": {},
   "outputs": [
    {
     "name": "stdout",
     "output_type": "stream",
     "text": [
      "['S6']\n",
      "['SJ', 'S9', 'S8']\n",
      "['DJ', 'D6', 'HQ', 'HJ', 'H9', 'H8', 'CK', 'C7']\n",
      "['DA', 'DQ']\n",
      "['CK', 'C7']\n",
      "['C10', 'C9', 'C6']\n",
      "['HQ', 'HJ', 'H9', 'H8']\n",
      "['HK']\n",
      "['D6', 'HJ', 'H9', 'H8', 'C7']\n",
      "['S9', 'S8']\n",
      "['DQ', 'S8', 'C9', 'C6']\n",
      "['HJ', 'H9', 'H8', 'C7']\n",
      "['C9', 'C6']\n",
      "['C7']\n",
      "['H9', 'H8']\n",
      "['S8', 'C6']\n",
      "['H8']\n",
      "['C6']\n",
      "\n"
     ]
    }
   ],
   "source": [
    "arena = Arena(nr_games_to_play=1)\n",
    "arena.set_players(RuleBasedAgent(), AgentRandomSchieber(), RuleBasedAgent(), AgentRandomSchieber())\n",
    "arena.play_all_games()"
   ]
  },
  {
   "cell_type": "code",
   "execution_count": 43,
   "id": "65e67ebf",
   "metadata": {},
   "outputs": [
    {
     "name": "stdout",
     "output_type": "stream",
     "text": [
      "157.0 0.0\n"
     ]
    }
   ],
   "source": [
    "print(arena.points_team_0.sum(), arena.points_team_1.sum())"
   ]
  }
 ],
 "metadata": {
  "kernelspec": {
   "display_name": "Python 3 (ipykernel)",
   "language": "python",
   "name": "python3"
  },
  "language_info": {
   "codemirror_mode": {
    "name": "ipython",
    "version": 3
   },
   "file_extension": ".py",
   "mimetype": "text/x-python",
   "name": "python",
   "nbconvert_exporter": "python",
   "pygments_lexer": "ipython3",
   "version": "3.8.11"
  }
 },
 "nbformat": 4,
 "nbformat_minor": 5
}
