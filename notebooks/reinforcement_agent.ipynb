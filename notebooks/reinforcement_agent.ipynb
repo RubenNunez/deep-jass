{
 "cells": [
  {
   "cell_type": "markdown",
   "source": [
    "# Jass Agent with Reinforcement Learning\n",
    "### Fact sheet by Ruben Nunez & Jordan Suter\n",
    "\n",
    "This fact sheet is highly inspired by the paper of Jacop Chapman and Mathias Lechner. <<Deep Q-Learning for Atari Breakout>>\n",
    "\n",
    "We tried to implement the Jass-Agent similarly as described in the paper.\n"
   ],
   "metadata": {
    "collapsed": false,
    "pycharm": {
     "name": "#%% md\n"
    }
   }
  },
  {
   "cell_type": "markdown",
   "source": [
    "<figure>\n",
    "    <img src=\"img/reinforcement.png\" width=\"600\"/>\n",
    "</figure>\n",
    "\n",
    "### table of contents:\n",
    "* Setup\n",
    "* Parameter\n",
    "* Deep Q-Network\n",
    "* Agent Jass\n",
    "* Environment (Jass loop)\n",
    "\n",
    "### source directory\n",
    "- https://de.mathworks.com/discovery/reinforcement-learning.html\n",
    "- https://keras.io/examples/rl/deep_q_network_breakout/\n",
    "\n",
    "UNO BOT Mit Keras evtl. ist das einfacher\n",
    "- https://github.com/PhilippThoelke/uno-bot/blob/master/agent.py"
   ],
   "metadata": {
    "collapsed": false,
    "pycharm": {
     "name": "#%% md\n"
    }
   }
  },
  {
   "cell_type": "markdown",
   "source": [
    "## Setup"
   ],
   "metadata": {
    "collapsed": false,
    "pycharm": {
     "name": "#%% md\n"
    }
   }
  },
  {
   "cell_type": "code",
   "execution_count": 1,
   "outputs": [],
   "source": [
    "import sys\n",
    "import pickle\n",
    "\n",
    "import numpy as np\n",
    "import pandas as pd\n",
    "import tensorflow as tf\n",
    "\n",
    "from jass.game.game_util import *\n",
    "from jass.game.game_sim import GameSim\n",
    "from jass.game.game_observation import GameObservation\n",
    "from jass.game.const import *\n",
    "from jass.game.rule_schieber import RuleSchieber\n",
    "from jass.agents.agent import Agent\n",
    "from jass.agents.agent_random_schieber import AgentRandomSchieber\n",
    "from jass.arena.arena import Arena\n",
    "\n",
    "from tensorflow import keras\n",
    "from tensorflow.keras import layers\n",
    "\n",
    "sys.path.append(\"../deep-jass-project\")\n",
    "# noinspection PyUnresolvedReferences\n",
    "from agent_gen1 import AgentGen1\n",
    "# noinspection PyUnresolvedReferences\n",
    "from agent_gen2 import AgentGen2\n",
    "# noinspection PyUnresolvedReferences\n",
    "from agent_gen3 import AgentGen3\n",
    "# noinspection PyUnresolvedReferences\n",
    "from agent_gen4 import AgentGen4\n",
    "# noinspection PyUnresolvedReferences\n",
    "from agent_gen5 import AgentGen5"
   ],
   "metadata": {
    "collapsed": false,
    "pycharm": {
     "name": "#%%\n"
    }
   }
  },
  {
   "cell_type": "markdown",
   "source": [
    "## Parameter"
   ],
   "metadata": {
    "collapsed": false,
    "pycharm": {
     "name": "#%% md\n"
    }
   }
  },
  {
   "cell_type": "code",
   "execution_count": 2,
   "outputs": [],
   "source": [
    "seed = 42\n",
    "gamma = 0.99  # Discount factor for past rewards\n",
    "epsilon = 1.0  # Epsilon greedy parameter\n",
    "epsilon_min = 0.1  # Minimum epsilon greedy parameter\n",
    "epsilon_max = 1.0  # Maximum epsilon greedy parameter\n",
    "epsilon_interval = (epsilon_max - epsilon_min)\n",
    "batch_size = 32  # Size of batch taken from replay buffer\n",
    "max_steps_per_episode = 10000\n",
    "\n",
    "# In the Deepmind paper they use RMSProp however then Adam optimizer\n",
    "optimizer = keras.optimizers.Adam(learning_rate=0.00025, clipnorm=1.0) # improves training time\n",
    "\n",
    "# Experience replay buffers\n",
    "action_history = []\n",
    "state_history = []\n",
    "state_next_history = []\n",
    "rewards_history = []\n",
    "done_history = []\n",
    "episode_reward_history = []\n",
    "running_reward = 0\n",
    "episode_count = 0\n",
    "trick_count = 0\n",
    "\n",
    "epsilon_random_frames = 50000  # Number of frames to take random action and observe output\n",
    "epsilon_greedy_frames = 1000000.0  # Number of frames for exploration\n",
    "\n",
    "# Note: The Deepmind paper suggests 1000000 however this causes memory issues\n",
    "max_memory_length = 100000 # Maximum replay length\n",
    "update_after_actions = 1  # Train the model after 1 actions\n",
    "update_target_network = 10000  # How often to update the target network\n",
    "loss_function = keras.losses.Huber()  # Using huber loss for stability"
   ],
   "metadata": {
    "collapsed": false,
    "pycharm": {
     "name": "#%%\n"
    }
   }
  },
  {
   "cell_type": "markdown",
   "source": [
    "## Deep Q-Network\n",
    "This network learns an approximation of the Q-table, which is a mapping between the states and actions that an agent will take.\n",
    "In every state are 36 actions, that can eventually be taken. The environment provides the state, and the action is chosen by selecting the larger of the 36 Q-values predicted in the output layer."
   ],
   "metadata": {
    "collapsed": false,
    "pycharm": {
     "name": "#%% md\n"
    }
   }
  },
  {
   "cell_type": "code",
   "execution_count": 99,
   "outputs": [],
   "source": [
    "num_actions = 36\n",
    "\n",
    "def create_q_model():\n",
    "    # inputs = layers.Input(shape=(84, 84, 4,)) # Network defined by the Deepmind paper [0,0,0,0,0,0,...,0,0,0,0,.......,0,0,0,..1,0,0,0,0,0]\n",
    "    inputs = layers.Input(shape=(32, 1, 80,)) # Network defined by the Deepmind paper [0,0,0,0,0,0,...,0,0,0,0,.......,0,0,0,..1,0,0,0,0,0]\n",
    "\n",
    "    # Convolutions on the frames on the screen\n",
    "    layer1 = layers.Conv2D(16, 1, strides=3, activation=\"relu\")(inputs)\n",
    "    layer2 = layers.Conv2D(64, 1, strides=2, activation=\"relu\")(layer1)\n",
    "    layer3 = layers.Conv2D(64, 1, strides=1, activation=\"relu\")(layer2)\n",
    "\n",
    "    layer4 = layers.Flatten()(layer3)\n",
    "\n",
    "    layer5 = layers.Dense(512, activation=\"relu\")(layer4)\n",
    "    action = layers.Dense(num_actions, activation=\"linear\")(layer5)\n",
    "\n",
    "    return keras.Model(inputs=inputs, outputs=action)\n",
    "\n",
    "# The first model makes the predictions for Q-values which are used to\n",
    "# make a action.\n",
    "model = create_q_model()\n",
    "# Build a target model for the prediction of future rewards.\n",
    "# The weights of a target model get updated every 10000 steps thus when the\n",
    "# loss between the Q-values is calculated the target Q-value is stable.\n",
    "model_target = create_q_model()"
   ],
   "metadata": {
    "collapsed": false,
    "pycharm": {
     "name": "#%%\n"
    }
   }
  },
  {
   "cell_type": "markdown",
   "source": [
    "## Agent"
   ],
   "metadata": {
    "collapsed": false,
    "pycharm": {
     "name": "#%% md\n"
    }
   }
  },
  {
   "cell_type": "code",
   "execution_count": 100,
   "outputs": [],
   "source": [
    "# Reinforcement Agent Implementation\n",
    "# by Ruben Nunez & Jordan Suter\n",
    "\n",
    "class AgentReinforcement(Agent):\n",
    "\n",
    "    @staticmethod\n",
    "    def calculate_trump_selection_score(cards, trump: int) -> int:\n",
    "        trump_score = [15, 10, 7, 25, 6, 19, 5, 5, 5]\n",
    "        no_trump_score = [9, 7, 5, 2, 1, 0, 0, 0, 0]\n",
    "\n",
    "        score = 0\n",
    "        for card in cards:\n",
    "            suit = int(card / 9)\n",
    "            exact_card = card % 9\n",
    "            score += trump_score[exact_card] if trump == suit else no_trump_score[exact_card]\n",
    "\n",
    "        return score\n",
    "\n",
    "    def __init__(self):\n",
    "        super().__init__()\n",
    "        self._rule = RuleSchieber() # we need a rule object to determine the valid cards\n",
    "\n",
    "    def action_trump(self, obs: GameObservation) -> int:\n",
    "        card_list = convert_one_hot_encoded_cards_to_int_encoded_list(obs.hand)\n",
    "        threshold = 68\n",
    "        scores = [0, 0, 0, 0]\n",
    "        for suit in range(0, 4):\n",
    "            trump_score = self.calculate_trump_selection_score(card_list, suit)\n",
    "            scores[suit] = trump_score\n",
    "\n",
    "        best_score = max(scores)\n",
    "        best_suit = scores.index(best_score)\n",
    "\n",
    "        if best_score <= threshold and obs.player < 1:\n",
    "            return PUSH\n",
    "        else:\n",
    "            return best_suit\n",
    "\n",
    "    def action_play_card(self, obs: GameObservation, _action) -> int:\n",
    "        valid_cards = self._rule.get_valid_cards_from_obs(obs)\n",
    "        if _action in valid_cards:\n",
    "            card = _action\n",
    "        else:\n",
    "            card = np.random.choice(np.flatnonzero(valid_cards))\n",
    "\n",
    "        return card"
   ],
   "metadata": {
    "collapsed": false,
    "pycharm": {
     "name": "#%%\n"
    }
   }
  },
  {
   "cell_type": "markdown",
   "source": [
    "## Environment"
   ],
   "metadata": {
    "collapsed": false,
    "pycharm": {
     "name": "#%% md\n"
    }
   }
  },
  {
   "cell_type": "code",
   "execution_count": 101,
   "outputs": [],
   "source": [
    "class Environment:\n",
    "\n",
    "    game = None\n",
    "\n",
    "    agent_reinforcement = AgentReinforcement()\n",
    "    agent_1 = AgentGen1()\n",
    "    agent_2 = AgentGen1()\n",
    "    agent_3 = AgentGen1()\n",
    "\n",
    "    def new_game(self):\n",
    "        rule = RuleSchieber()\n",
    "        game = GameSim(rule=rule)\n",
    "\n",
    "        # deal cards\n",
    "        game.init_from_cards(hands=deal_random_hand(), dealer=SOUTH)\n",
    "        obs = game.get_observation()\n",
    "\n",
    "        trump = self.agent_reinforcement.action_trump(obs) # set trump\n",
    "        game.action_trump(trump)\n",
    "\n",
    "        if trump == PUSH: # set PUSH\n",
    "            obs = game.get_observation()\n",
    "            trump = self.agent_2.action_trump(obs) # set trump\n",
    "            game.action_trump(trump) # tell the simulation the selected trump\n",
    "\n",
    "        self.game = game\n",
    "\n",
    "    def step(self, _action):\n",
    "        obs = self.game.get_observation()\n",
    "\n",
    "        if obs.player == 0:\n",
    "            self.game.action_play_card(self.agent_reinforcement.action_play_card(obs, _action))\n",
    "        if obs.player == 1:\n",
    "            self.game.action_play_card(self.agent_1.action_play_card(obs))\n",
    "        if obs.player == 2:\n",
    "            self.game.action_play_card(self.agent_2.action_play_card(obs))\n",
    "        if obs.player == 3:\n",
    "            self.game.action_play_card(self.agent_3.action_play_card(obs))\n",
    "\n",
    "        _done = self.game.is_done()\n",
    "        _state = self.state(),\n",
    "        _reward = self.game.get_observation().trick_points\n",
    "\n",
    "        return _state, _reward, _done, None\n",
    "\n",
    "\n",
    "    def state(self):\n",
    "        obs = self.game.get_observation()\n",
    "        if obs.current_trick is None:\n",
    "            obs.current_trick = np.array([-1])\n",
    "\n",
    "        return np.concatenate((obs.hand, obs.tricks.reshape(36), obs.current_trick, np.array([obs.declared_trump]), np.array([obs.nr_cards_in_trick]),  np.array([obs.nr_played_cards]), np.array([obs.forehand])))\n"
   ],
   "metadata": {
    "collapsed": false,
    "pycharm": {
     "name": "#%%\n"
    }
   }
  },
  {
   "cell_type": "markdown",
   "source": [
    "## Training (Jass loop)"
   ],
   "metadata": {
    "collapsed": false
   }
  },
  {
   "cell_type": "code",
   "execution_count": 102,
   "outputs": [
    {
     "name": "stderr",
     "output_type": "stream",
     "text": [
      "/var/folders/61/3v_jwt596vl__t_nyhy5j3jh0000gp/T/ipykernel_90203/794641025.py:80: VisibleDeprecationWarning: Creating an ndarray from ragged nested sequences (which is a list-or-tuple of lists-or-tuples-or ndarrays with different lengths or shapes) is deprecated. If you meant to do this, you must specify 'dtype=object' when creating the ndarray.\n",
      "  state_sample = np.array([state_history[i] for i in indices])\n"
     ]
    },
    {
     "ename": "InvalidArgumentError",
     "evalue": "Incompatible shapes: [32,9] vs. [32] [Op:Mul]",
     "output_type": "error",
     "traceback": [
      "\u001B[0;31m---------------------------------------------------------------------------\u001B[0m",
      "\u001B[0;31mInvalidArgumentError\u001B[0m                      Traceback (most recent call last)",
      "\u001B[0;32m/var/folders/61/3v_jwt596vl__t_nyhy5j3jh0000gp/T/ipykernel_90203/794641025.py\u001B[0m in \u001B[0;36m<module>\u001B[0;34m\u001B[0m\n\u001B[1;32m     95\u001B[0m \u001B[0;34m\u001B[0m\u001B[0m\n\u001B[1;32m     96\u001B[0m             \u001B[0;31m# If final frame set the last value to -1\u001B[0m\u001B[0;34m\u001B[0m\u001B[0;34m\u001B[0m\u001B[0m\n\u001B[0;32m---> 97\u001B[0;31m             \u001B[0mupdated_q_values\u001B[0m \u001B[0;34m=\u001B[0m \u001B[0mupdated_q_values\u001B[0m \u001B[0;34m*\u001B[0m \u001B[0;34m(\u001B[0m\u001B[0;36m1\u001B[0m \u001B[0;34m-\u001B[0m \u001B[0mdone_sample\u001B[0m\u001B[0;34m)\u001B[0m \u001B[0;34m-\u001B[0m \u001B[0mdone_sample\u001B[0m\u001B[0;34m\u001B[0m\u001B[0;34m\u001B[0m\u001B[0m\n\u001B[0m\u001B[1;32m     98\u001B[0m \u001B[0;34m\u001B[0m\u001B[0m\n\u001B[1;32m     99\u001B[0m             \u001B[0;31m# Create a mask so we only calculate loss on the updated Q-values\u001B[0m\u001B[0;34m\u001B[0m\u001B[0;34m\u001B[0m\u001B[0m\n",
      "\u001B[0;32m/opt/anaconda3/envs/deep-jass-project/lib/python3.9/site-packages/tensorflow/python/util/traceback_utils.py\u001B[0m in \u001B[0;36merror_handler\u001B[0;34m(*args, **kwargs)\u001B[0m\n\u001B[1;32m    151\u001B[0m     \u001B[0;32mexcept\u001B[0m \u001B[0mException\u001B[0m \u001B[0;32mas\u001B[0m \u001B[0me\u001B[0m\u001B[0;34m:\u001B[0m\u001B[0;34m\u001B[0m\u001B[0;34m\u001B[0m\u001B[0m\n\u001B[1;32m    152\u001B[0m       \u001B[0mfiltered_tb\u001B[0m \u001B[0;34m=\u001B[0m \u001B[0m_process_traceback_frames\u001B[0m\u001B[0;34m(\u001B[0m\u001B[0me\u001B[0m\u001B[0;34m.\u001B[0m\u001B[0m__traceback__\u001B[0m\u001B[0;34m)\u001B[0m\u001B[0;34m\u001B[0m\u001B[0;34m\u001B[0m\u001B[0m\n\u001B[0;32m--> 153\u001B[0;31m       \u001B[0;32mraise\u001B[0m \u001B[0me\u001B[0m\u001B[0;34m.\u001B[0m\u001B[0mwith_traceback\u001B[0m\u001B[0;34m(\u001B[0m\u001B[0mfiltered_tb\u001B[0m\u001B[0;34m)\u001B[0m \u001B[0;32mfrom\u001B[0m \u001B[0;32mNone\u001B[0m\u001B[0;34m\u001B[0m\u001B[0;34m\u001B[0m\u001B[0m\n\u001B[0m\u001B[1;32m    154\u001B[0m     \u001B[0;32mfinally\u001B[0m\u001B[0;34m:\u001B[0m\u001B[0;34m\u001B[0m\u001B[0;34m\u001B[0m\u001B[0m\n\u001B[1;32m    155\u001B[0m       \u001B[0;32mdel\u001B[0m \u001B[0mfiltered_tb\u001B[0m\u001B[0;34m\u001B[0m\u001B[0;34m\u001B[0m\u001B[0m\n",
      "\u001B[0;32m/opt/anaconda3/envs/deep-jass-project/lib/python3.9/site-packages/tensorflow/python/framework/ops.py\u001B[0m in \u001B[0;36mraise_from_not_ok_status\u001B[0;34m(e, name)\u001B[0m\n\u001B[1;32m   7105\u001B[0m \u001B[0;32mdef\u001B[0m \u001B[0mraise_from_not_ok_status\u001B[0m\u001B[0;34m(\u001B[0m\u001B[0me\u001B[0m\u001B[0;34m,\u001B[0m \u001B[0mname\u001B[0m\u001B[0;34m)\u001B[0m\u001B[0;34m:\u001B[0m\u001B[0;34m\u001B[0m\u001B[0;34m\u001B[0m\u001B[0m\n\u001B[1;32m   7106\u001B[0m   \u001B[0me\u001B[0m\u001B[0;34m.\u001B[0m\u001B[0mmessage\u001B[0m \u001B[0;34m+=\u001B[0m \u001B[0;34m(\u001B[0m\u001B[0;34m\" name: \"\u001B[0m \u001B[0;34m+\u001B[0m \u001B[0mname\u001B[0m \u001B[0;32mif\u001B[0m \u001B[0mname\u001B[0m \u001B[0;32mis\u001B[0m \u001B[0;32mnot\u001B[0m \u001B[0;32mNone\u001B[0m \u001B[0;32melse\u001B[0m \u001B[0;34m\"\"\u001B[0m\u001B[0;34m)\u001B[0m\u001B[0;34m\u001B[0m\u001B[0;34m\u001B[0m\u001B[0m\n\u001B[0;32m-> 7107\u001B[0;31m   \u001B[0;32mraise\u001B[0m \u001B[0mcore\u001B[0m\u001B[0;34m.\u001B[0m\u001B[0m_status_to_exception\u001B[0m\u001B[0;34m(\u001B[0m\u001B[0me\u001B[0m\u001B[0;34m)\u001B[0m \u001B[0;32mfrom\u001B[0m \u001B[0;32mNone\u001B[0m  \u001B[0;31m# pylint: disable=protected-access\u001B[0m\u001B[0;34m\u001B[0m\u001B[0;34m\u001B[0m\u001B[0m\n\u001B[0m\u001B[1;32m   7108\u001B[0m \u001B[0;34m\u001B[0m\u001B[0m\n\u001B[1;32m   7109\u001B[0m \u001B[0;34m\u001B[0m\u001B[0m\n",
      "\u001B[0;31mInvalidArgumentError\u001B[0m: Incompatible shapes: [32,9] vs. [32] [Op:Mul]"
     ]
    }
   ],
   "source": [
    "env = Environment()\n",
    "\n",
    "# In the Deepmind paper they use RMSProp however then Adam optimizer\n",
    "# improves training time\n",
    "optimizer = keras.optimizers.Adam(learning_rate=0.00025, clipnorm=1.0)\n",
    "\n",
    "# Experience replay buffers\n",
    "action_history = []\n",
    "state_history = []\n",
    "state_next_history = []\n",
    "rewards_history = []\n",
    "done_history = []\n",
    "episode_reward_history = []\n",
    "running_reward = 0\n",
    "episode_count = 0\n",
    "move_count = 0\n",
    "# Number of frames to take random action and observe output\n",
    "epsilon_random_frames = 50000\n",
    "# Number of frames for exploration\n",
    "epsilon_greedy_frames = 1000000.0\n",
    "# Maximum replay length\n",
    "# Note: The Deepmind paper suggests 1000000 however this causes memory issues\n",
    "max_memory_length = 100000\n",
    "# Train the model after 4 actions\n",
    "update_after_actions = 4\n",
    "# How often to update the target network\n",
    "update_target_network = 10000\n",
    "# Using huber loss for stability\n",
    "loss_function = keras.losses.Huber()\n",
    "\n",
    "\n",
    "while True:  # Run until solved\n",
    "    env.new_game() # Start Game\n",
    "    state = env.state()\n",
    "    episode_reward = 0\n",
    "\n",
    "    for time_step in range(1, max_steps_per_episode):\n",
    "        # env.render(); Adding this line would show the attempts\n",
    "        # of the agent in a pop up window.\n",
    "        move_count += 1\n",
    "\n",
    "        # Use epsilon-greedy for exploration\n",
    "        if move_count < epsilon_random_frames or epsilon > np.random.rand(1)[0]:\n",
    "            # Take random action\n",
    "            action = np.random.choice(num_actions)\n",
    "        else:\n",
    "            # Predict action Q-values\n",
    "            # From environment state\n",
    "            state_tensor = tf.convert_to_tensor(state)\n",
    "            state_tensor = tf.expand_dims(state_tensor, 0)\n",
    "            action_probs = model(state_tensor, training=False)\n",
    "            # Take best action\n",
    "            action = tf.argmax(action_probs[0]).numpy()\n",
    "\n",
    "        # Decay probability of taking random action\n",
    "        epsilon -= epsilon_interval / epsilon_greedy_frames\n",
    "        epsilon = max(epsilon, epsilon_min)\n",
    "\n",
    "        # Apply the sampled action in our environment\n",
    "        state_next, reward, done, _ = env.step(action)\n",
    "        # state_next = np.array(state_next)\n",
    "\n",
    "        episode_reward += reward\n",
    "\n",
    "        # Save actions and states in replay buffer\n",
    "        action_history.append(action)\n",
    "        state_history.append(state)\n",
    "        state_next_history.append(state_next)\n",
    "        done_history.append(done)\n",
    "        rewards_history.append(reward)\n",
    "        state = state_next\n",
    "\n",
    "        # Update every fourth frame and once batch size is over 32\n",
    "        if move_count % update_after_actions == 0 and len(done_history) > batch_size:\n",
    "\n",
    "            # Get indices of samples for replay buffers\n",
    "            indices = np.random.choice(range(len(done_history)), size=batch_size)\n",
    "\n",
    "            # Using list comprehension to sample from replay buffer\n",
    "            state_sample = np.array([state_history[i] for i in indices])\n",
    "            state_next_sample = np.array([state_next_history[i] for i in indices])\n",
    "            rewards_sample = [rewards_history[i] for i in indices]\n",
    "            action_sample = [action_history[i] for i in indices]\n",
    "            done_sample = tf.convert_to_tensor(\n",
    "                [float(done_history[i]) for i in indices]\n",
    "            )\n",
    "\n",
    "            # Build the updated Q-values for the sampled future states\n",
    "            # Use the target model for stability\n",
    "            future_rewards = model_target.predict(state_next_sample[None,:,:])\n",
    "            # Q value = reward + discount factor * expected future reward\n",
    "            updated_q_values = rewards_sample + gamma * tf.reduce_max(\n",
    "                future_rewards, axis=1\n",
    "            )\n",
    "\n",
    "            # If final frame set the last value to -1\n",
    "            updated_q_values = updated_q_values * (1 - done_sample) - done_sample\n",
    "\n",
    "            # Create a mask so we only calculate loss on the updated Q-values\n",
    "            masks = tf.one_hot(action_sample, num_actions)\n",
    "\n",
    "            with tf.GradientTape() as tape:\n",
    "                # Train the model on the states and updated Q-values\n",
    "                q_values = model(state_sample)\n",
    "\n",
    "                # Apply the masks to the Q-values to get the Q-value for action taken\n",
    "                q_action = tf.reduce_sum(tf.multiply(q_values, masks), axis=1)\n",
    "                # Calculate loss between new Q-value and old Q-value\n",
    "                loss = loss_function(updated_q_values, q_action)\n",
    "\n",
    "            # Backpropagation\n",
    "            grads = tape.gradient(loss, model.trainable_variables)\n",
    "            optimizer.apply_gradients(zip(grads, model.trainable_variables))\n",
    "\n",
    "        if move_count % update_target_network == 0:\n",
    "            # update the the target network with new weights\n",
    "            model_target.set_weights(model.get_weights())\n",
    "            # Log details\n",
    "            template = \"running reward: {:.2f} at episode {}, frame count {}\"\n",
    "            print(template.format(running_reward, episode_count, move_count))\n",
    "\n",
    "        # Limit the state and reward history\n",
    "        if len(rewards_history) > max_memory_length:\n",
    "            del rewards_history[:1]\n",
    "            del state_history[:1]\n",
    "            del state_next_history[:1]\n",
    "            del action_history[:1]\n",
    "            del done_history[:1]\n",
    "\n",
    "        if done:\n",
    "            break\n",
    "\n",
    "    # Update running reward to check condition for solving\n",
    "    episode_reward_history.append(episode_reward)\n",
    "    if len(episode_reward_history) > 100:\n",
    "        del episode_reward_history[:1]\n",
    "    running_reward = np.mean(episode_reward_history)\n",
    "\n",
    "    episode_count += 1\n",
    "\n",
    "    print(\"Team: NORTH SOUTH: \" + str(env.state().points[0]))\n",
    "    print(\"Team: EAST WEST: \" + str(env.state().points[1]))\n",
    "\n",
    "    if running_reward > 40:  # Condition to consider the task solved\n",
    "        print(\"Solved at episode {}!\".format(episode_count))\n",
    "        break"
   ],
   "metadata": {
    "collapsed": false,
    "pycharm": {
     "name": "#%%\n"
    }
   }
  },
  {
   "cell_type": "code",
   "execution_count": 98,
   "outputs": [],
   "source": [],
   "metadata": {
    "collapsed": false,
    "pycharm": {
     "name": "#%%\n"
    }
   }
  },
  {
   "cell_type": "code",
   "execution_count": 64,
   "outputs": [],
   "source": [],
   "metadata": {
    "collapsed": false,
    "pycharm": {
     "name": "#%%\n"
    }
   }
  },
  {
   "cell_type": "code",
   "execution_count": null,
   "outputs": [],
   "source": [],
   "metadata": {
    "collapsed": false,
    "pycharm": {
     "name": "#%%\n"
    }
   }
  }
 ],
 "metadata": {
  "kernelspec": {
   "display_name": "Python 3",
   "language": "python",
   "name": "python3"
  },
  "language_info": {
   "codemirror_mode": {
    "name": "ipython",
    "version": 2
   },
   "file_extension": ".py",
   "mimetype": "text/x-python",
   "name": "python",
   "nbconvert_exporter": "python",
   "pygments_lexer": "ipython2",
   "version": "2.7.6"
  }
 },
 "nbformat": 4,
 "nbformat_minor": 0
}